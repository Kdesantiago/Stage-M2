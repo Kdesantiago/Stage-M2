{
 "cells": [
  {
   "cell_type": "code",
   "execution_count": 2,
   "metadata": {},
   "outputs": [],
   "source": [
    "import numpy as np # linear algebra\n",
    "import pandas as pd # data processing, CSV file I/O (e.g. pd.read_csv)\n",
    "import sklearn\n",
    "import matplotlib.pyplot as plt\n",
    "import scipy\n",
    "\n",
    "import math"
   ]
  },
  {
   "cell_type": "markdown",
   "metadata": {},
   "source": [
    "# Programmation de la méthode SCMK"
   ]
  },
  {
   "cell_type": "code",
   "execution_count": 3,
   "metadata": {},
   "outputs": [],
   "source": [
    "def fun1(P,L,F,Q,beta,gamma):\n",
    "    \n",
    "    fct = beta * np.trace(P.T @ L @ P) + gamma * np.linalg.norm(F - P @ Q,ord='fro')**2\n",
    "    \n",
    "    grad = 2 * beta * L @ P + gamma * (-2 * F @ Q.T + 2 * P @ Q @ Q.T)\n",
    "    return fct,grad\n",
    "\n",
    "def fun2(P,args):\n",
    "    \n",
    "    fct = args[3] * np.trace(P.T @ args[0] @ P) + args[4] * np.linalg.norm(args[1] - P @ args[2],ord='fro')**2\n",
    "    \n",
    "    grad = 2 * args[3] * args[0] @ P + args[4] * (-2 * args[1] @ args[2].T)\n",
    "    return fct,grad"
   ]
  },
  {
   "cell_type": "code",
   "execution_count": 4,
   "metadata": {},
   "outputs": [],
   "source": [
    "def fun_objectif(K,Z,F,P,Q,alpha,beta,gamma,L):\n",
    "    res = np.trace(K -2*K @ Z + Z.T @ K @ Z) + alpha * np.linalg.norm(Z,ord=1)+ beta * np.trace(P.T @ L @ P) + gamma * np.linalg.norm(F - P @ Q,ord='fro')**2\n",
    "    return(res)"
   ]
  },
  {
   "cell_type": "code",
   "execution_count": 5,
   "metadata": {},
   "outputs": [],
   "source": [
    "def SCMK(data,c,alpha,beta,gamma,mu,nb_etape=10,tol=1e-3):\n",
    "    '''data : tensor with dim(r,n,n) where data[k,:,:] is the kernel k on data'''\n",
    "    ''' c : number of cluster '''\n",
    "    \n",
    "    ''' Verifications '''\n",
    "    #if( (type(data)==int) | (type(data)==float) ) : return(\"Error :  only a number in input\")\n",
    "    #if( (len(data.shape)==3) & (data.shape[1]!=data.shape[2])) : return(\"Error : dimension of kernels\")\n",
    "    #if( (len(data.shape)==2) & (data.shape[0]!=data.shape[1])) : return(\"Error : dimension of kernel\")\n",
    "    \n",
    "    ''' Initialisation des variables '''\n",
    "    if(len(data.shape)==2):\n",
    "        r = 1\n",
    "        n,_ = data.shape\n",
    "    else :\n",
    "        r,n,_ = data.shape\n",
    "    Z = np.random.uniform(0,1,(n,n))\n",
    "    P = scipy.linalg.orth( np.random.uniform(0,1,(n,c)) )\n",
    "    Q = scipy.linalg.orth( np.random.uniform(0,1,(c,c)) )\n",
    "    #F = np.zeros((n,c))\n",
    "    F = P @ Q\n",
    "    list_argmax=np.argmax(F,axis=1)#donne liste indice du max par ligne\n",
    "    for i in range(n):\n",
    "        F[i,list_argmax[i]] = 1\n",
    "        F[i,np.delete(range(c),list_argmax[i])] = 0\n",
    "    \n",
    "    Y = np.zeros((n,n)) # hésitation avec : Y=np.zeros((n,1)) vu le code matlab...\n",
    "    w = np.ones(r)/(r**2) ## On veut que sum(sqrt(w))=1\n",
    "    \n",
    "    etape=0\n",
    "    crit = math.inf # Critère d'amélioration du clustering, à voir comment le définir\n",
    "    \n",
    "    \n",
    "    S = np.zeros((n,n))\n",
    "    h = np.zeros(r)\n",
    "    \n",
    "    a=orthogonal_optimization(fun3,grad3)\n",
    "    while( (etape<nb_etape) & (crit>tol) ):\n",
    "        \n",
    "        ''' Calcul de Kw '''\n",
    "        Kw = np.zeros((n,n))\n",
    "        \n",
    "        if(r==1) :\n",
    "            Kw = data\n",
    "        else :\n",
    "            for i in range(r):\n",
    "                Kw += w[i]*data[i,:,:]\n",
    "\n",
    "        ''' Update de S '''\n",
    "        S = Z-Y/mu\n",
    "        S[abs(S)<alpha/mu] = alpha/mu\n",
    "        S = (abs(S)-alpha/mu) * np.sign(S)\n",
    "        S = S-np.diag(np.diag(S))\n",
    "        \n",
    "        ''' Update de Z '''\n",
    "        E = S + Y/mu\n",
    "        dist_p = (P**2) @ np.ones((c,n)) - 2 * P @ P.T + np.ones((n,c)) @ (P**2).T # ||P_i,: - P_j,:||^2\n",
    "        tmp1 = mu*np.eye(n) + 2*Kw\n",
    "        tmp2 = beta/2 * dist_p - 2* Kw - mu * E\n",
    "        Z = np.linalg.inv(tmp1) @ (-tmp2)\n",
    "        Z = Z - np.diag(np.diag(Z))\n",
    "        Z[Z<0] = 0\n",
    "        Z = (Z+Z.T)/2\n",
    "        \n",
    "        ''' Update de Y '''\n",
    "        Y = Y + mu * (S-Z)\n",
    "        \n",
    "        ''' Update de P '''\n",
    "        D = np.diag(sum(Z))\n",
    "        L = D - Z\n",
    "        #P, _,_ = cutnorm.OptManiMulitBallGBB.opt_mani_mulit_ball_gbb(x=P,fun=fun2,args=[L,F,Q,beta,gamma]) #souci ici !! Pas orthogonal !!!!\n",
    "        P = a.run(P,[L,F,Q,beta,gamma] )\n",
    "        #print(P.T @ P) # OK avec la2ème méthode, c'est bien orthogonal\n",
    "        #print(P)\n",
    "        ''' Update de Q '''\n",
    "        U,_,V = np.linalg.svd(F.T @ P)\n",
    "        Q = U @ V.T\n",
    "        \n",
    "        ''' Update de F '''\n",
    "        F = P @ Q\n",
    "        list_argmax=np.argmax(F,axis=1)#donne liste indice du max par ligne\n",
    "        for i in range(n):\n",
    "            F[i,list_argmax[i]] = 1\n",
    "            F[i,np.delete(range(c),list_argmax[i])] = 0\n",
    "        if(r>1) :\n",
    "            ''' Calcul de h '''\n",
    "            for i in range(r):\n",
    "                h[i] = np.trace( data[i,:,:] - 2*data[i,:,:]@Z + Z.T@data[i,:,:]@Z )\n",
    "\n",
    "            ''' Update de w '''\n",
    "            for i in range(r):\n",
    "                w[i] = (h[i] * sum(1./h))**(-2)\n",
    "        print(fun_objectif(Kw,Z,F,P,Q,alpha,beta,gamma,L))\n",
    "        etape+=1\n",
    "        #print('étape :',etape)\n",
    "        #print(Z)\n",
    "        \n",
    "    return(list_argmax)"
   ]
  },
  {
   "cell_type": "markdown",
   "metadata": {},
   "source": [
    "# TESTs (Brouillon)"
   ]
  },
  {
   "cell_type": "code",
   "execution_count": 6,
   "metadata": {},
   "outputs": [
    {
     "name": "stdout",
     "output_type": "stream",
     "text": [
      "(4, 3, 3)\n",
      "[[[1. 1. 1.]\n",
      "  [1. 1. 1.]\n",
      "  [1. 1. 1.]]\n",
      "\n",
      " [[1. 1. 1.]\n",
      "  [1. 1. 1.]\n",
      "  [1. 1. 1.]]\n",
      "\n",
      " [[1. 1. 1.]\n",
      "  [1. 1. 1.]\n",
      "  [1. 1. 1.]]\n",
      "\n",
      " [[1. 2. 1.]\n",
      "  [1. 2. 1.]\n",
      "  [1. 2. 1.]]]\n"
     ]
    }
   ],
   "source": [
    "tmp=np.concatenate([np.ones((3,3,3))*1,np.ones((1,3,3))*[1,2,1]])\n",
    "print(tmp.shape)\n",
    "print(tmp)"
   ]
  },
  {
   "cell_type": "code",
   "execution_count": 7,
   "metadata": {},
   "outputs": [
    {
     "data": {
      "text/plain": [
       "array([[0.        , 0.52921411, 0.6582498 ],\n",
       "       [0.52921411, 0.        , 0.28111953],\n",
       "       [0.6582498 , 0.28111953, 0.        ]])"
      ]
     },
     "execution_count": 7,
     "metadata": {},
     "output_type": "execute_result"
    }
   ],
   "source": [
    "data=np.random.uniform(0,1,9).reshape(3,3)\n",
    "data=data-np.diag(np.diag(data))\n",
    "data=(data+data.T)/2\n",
    "data"
   ]
  },
  {
   "cell_type": "code",
   "execution_count": 8,
   "metadata": {},
   "outputs": [
    {
     "data": {
      "text/plain": [
       "(3, 3)"
      ]
     },
     "execution_count": 8,
     "metadata": {},
     "output_type": "execute_result"
    }
   ],
   "source": [
    "data.shape"
   ]
  },
  {
   "cell_type": "code",
   "execution_count": 9,
   "metadata": {},
   "outputs": [],
   "source": [
    "c=2\n",
    "alpha=2\n",
    "beta=1\n",
    "gamma=1\n",
    "mu=1"
   ]
  },
  {
   "cell_type": "markdown",
   "metadata": {},
   "source": [
    "## Choses à faire"
   ]
  },
  {
   "cell_type": "markdown",
   "metadata": {},
   "source": [
    "Trouver comment update P :\n",
    "- Le faire à la main -> Lagrangien : Pas réussi à trouver le lambda qui optimise\n",
    "- Solveur -> Encore en cours de recherche, pas réussi à trouver un solveur avec constraint -> https://rdrr.io/cran/orthoDr/man/ortho_optim.html en R à explorer\n",
    "- https://link.springer.com/article/10.1007%2Fs12532-010-0017-1 Article cité dans le programme R\n",
    "- https://link.springer.com/article/10.1007/s10915-013-9740-x#author-information\n",
    "- https://pypi.org/project/cutnorm/#wen2013"
   ]
  },
  {
   "cell_type": "markdown",
   "metadata": {},
   "source": [
    "Comparaison entre SCMK et SC (à partir de différentes mesures) :\n",
    "- Performances brutes.\n",
    "- L'apport de F -> Essayer sans la partie F et juste faire un K-means sur P\n",
    "- Voir ce que Q apporte -> F_i,j = 1 avec j = l'argmax de P_i,:\n",
    "- Enlever la partie Spectral Clustering du code et le faire après (revient à faire seulement un MKL)\n",
    "- "
   ]
  },
  {
   "cell_type": "markdown",
   "metadata": {},
   "source": [
    "Utilisation de mesures de clustering (certaines disponibles dans sklearn.metrics.) : https://scikit-learn.org/stable/modules/classes.html#module-sklearn.metrics\n",
    "- Rand Score + Adjusted Rand Score\n",
    "- Normalized Mutual Information (NMI)\n",
    "- Calinski and Harabasz score (# Pas de référence, y_true)\n",
    "- Davies-Bouldin score (# Pas de référence, y_true)\n",
    "- Fowlkes-Mallows index (FMI)"
   ]
  },
  {
   "cell_type": "markdown",
   "metadata": {},
   "source": [
    "Mesure de similarité pour variables qualitatives :\n",
    "- Ref : Jean-Philippe Vert \n",
    "- String-Kernel -> Quantifie la similarité entre chaînes de caractère (Peut-être intéressant pour la partie génomique)\n",
    "    - Mismatch Kernel\n",
    "    - Gappy Kernel\n",
    "    - Motif Kernel\n",
    "    - lien : https://string-kernel.readthedocs.io/en/latest/home.html\n",
    "    \n",
    "- A explorer : https://gist.github.com/karlnapf/6721192\n"
   ]
  },
  {
   "cell_type": "code",
   "execution_count": 10,
   "metadata": {},
   "outputs": [],
   "source": [
    "import numpy as np\n",
    "import matplotlib.pyplot as plt\n",
    "from sklearn import cluster, datasets\n",
    "from sklearn.preprocessing import StandardScaler \n",
    "from matplotlib.colors import ListedColormap \n",
    "import pandas as pd\n",
    "import scipy\n",
    "from scipy.spatial import distance_matrix\n",
    "import math"
   ]
  },
  {
   "cell_type": "code",
   "execution_count": 11,
   "metadata": {},
   "outputs": [
    {
     "data": {
      "image/png": "[encoded data removed]",
      "text/plain": [
       "<Figure size 432x288 with 1 Axes>"
      ]
     },
     "metadata": {
      "needs_background": "light"
     },
     "output_type": "display_data"
    }
   ],
   "source": [
    "nsub = 150;\n",
    "my2circles = datasets.make_circles(n_samples=2*nsub, factor=.5, noise=.025, shuffle=False); \n",
    "X,y=my2circles;\n",
    "X = StandardScaler().fit_transform(X)\n",
    "plt.scatter(X[:, 0], X[:, 1], s=10,c=y, cmap='Paired')\n",
    "plt.xlabel(\"x1\"); plt.ylabel(\"x2\");"
   ]
  },
  {
   "cell_type": "code",
   "execution_count": 12,
   "metadata": {},
   "outputs": [],
   "source": [
    "mu = [0, 0]\n",
    "cov = [[0.001, 0], [0, 0.001]]  # diagonal covariance\n",
    "n = 150    \n",
    "x = np.random.multivariate_normal(mu, cov, n)\n",
    "col= 2*np.ones(150)"
   ]
  },
  {
   "cell_type": "code",
   "execution_count": 13,
   "metadata": {},
   "outputs": [
    {
     "name": "stdout",
     "output_type": "stream",
     "text": [
      "(450, 2)\n"
     ]
    }
   ],
   "source": [
    "X = np.concatenate((X, x), axis = 0)\n",
    "print(X.shape)\n",
    "y = np.concatenate((y,col), axis=0)\n",
    "N=450"
   ]
  },
  {
   "cell_type": "code",
   "execution_count": 14,
   "metadata": {},
   "outputs": [
    {
     "data": {
      "image/png": "[encoded data removed]",
      "text/plain": [
       "<Figure size 432x288 with 1 Axes>"
      ]
     },
     "metadata": {
      "needs_background": "light"
     },
     "output_type": "display_data"
    }
   ],
   "source": [
    "plt.scatter(X[:, 0], X[:, 1], s=10,c=y, cmap='Paired')\n",
    "plt.xlabel(\"x1\"); plt.xlabel(\"x2\");"
   ]
  },
  {
   "cell_type": "code",
   "execution_count": 15,
   "metadata": {},
   "outputs": [],
   "source": [
    "tmp=np.concatenate([np.ones((3,3,3))*1,np.ones((1,3,3))*[1,2,1]])"
   ]
  },
  {
   "cell_type": "code",
   "execution_count": 16,
   "metadata": {},
   "outputs": [],
   "source": [
    "df = pd.DataFrame(X); \n",
    "Z=distance_matrix(df.values, df.values);"
   ]
  },
  {
   "cell_type": "code",
   "execution_count": 17,
   "metadata": {},
   "outputs": [],
   "source": [
    "W1=np.zeros((N,N))\n",
    "for i in range(N):\n",
    "    for j in range(N):\n",
    "        W1[i,j]=np.exp((-Z[i,j]**2)/(2*(0.1)**2))\n",
    "W2=np.zeros((N,N))\n",
    "for i in range(N):\n",
    "    for j in range(N):\n",
    "        W2[i,j]=np.exp((-Z[i,j]**2)/(2*(0.5)**2))"
   ]
  },
  {
   "cell_type": "code",
   "execution_count": 18,
   "metadata": {},
   "outputs": [],
   "source": [
    "data=[W1-np.diag(np.diag(W1)),W2-np.diag(np.diag(W2))]"
   ]
  },
  {
   "cell_type": "code",
   "execution_count": 19,
   "metadata": {},
   "outputs": [
    {
     "data": {
      "text/plain": [
       "(2, 450, 450)"
      ]
     },
     "execution_count": 19,
     "metadata": {},
     "output_type": "execute_result"
    }
   ],
   "source": [
    "data=np.concatenate([[W1-np.diag(np.diag(W1)),W2-np.diag(np.diag(W2))]])\n",
    "data.shape"
   ]
  },
  {
   "cell_type": "code",
   "execution_count": 26,
   "metadata": {},
   "outputs": [
    {
     "name": "stdout",
     "output_type": "stream",
     "text": [
      "246475.5353013891\n",
      "56547.309713360526\n",
      "25848.44537984417\n",
      "15700.812492068959\n",
      "11197.863568447321\n",
      "8866.815889517375\n",
      "7537.108374911029\n",
      "6740.354025294686\n",
      "6257.250283964822\n",
      "5979.30586627885\n",
      "5841.228006307345\n",
      "5807.13940847118\n",
      "5852.480818806142\n",
      "5968.242053927983\n",
      "6147.57206939884\n",
      "6386.685825274747\n",
      "6681.968985710001\n",
      "7037.518354421485\n",
      "7459.521796241785\n",
      "7952.999359166827\n",
      "8523.113180312113\n",
      "9169.040416963333\n",
      "9903.016992750412\n",
      "10736.273088268019\n",
      "11683.25537665946\n",
      "12753.179601976493\n",
      "13969.117366306287\n",
      "15351.584715712057\n",
      "16919.093845676023\n",
      "18702.49352121443\n",
      "20732.68607016262\n",
      "23040.53721760139\n",
      "25643.662387402735\n",
      "28592.82311155914\n",
      "31952.24769563185\n",
      "35764.79178084333\n",
      "40086.44012916483\n",
      "44988.35102655299\n",
      "50585.44868240189\n",
      "56968.886689126986\n",
      "64222.37921164719\n",
      "72515.06979875301\n",
      "81999.96982821809\n",
      "92902.89456264788\n",
      "105409.1216315708\n",
      "119757.29457956347\n",
      "136261.15409278654\n",
      "155288.41638941492\n",
      "177113.9203175052\n",
      "202297.4982781996\n",
      "[2 2 2 2 2 2 2 2 2 2 2 2 2 2 2 2 2 2 2 2 2 2 2 2 2 2 2 2 2 2 2 2 2 2 2 2 2\n",
      " 2 2 2 2 2 2 2 2 2 2 2 2 2 2 2 2 2 2 2 2 2 2 2 2 2 2 2 2 2 2 2 2 2 2 2 2 2\n",
      " 2 2 2 2 2 2 2 2 2 2 2 2 2 2 2 2 2 2 2 2 2 2 2 2 2 2 2 2 2 2 2 2 2 2 2 2 2\n",
      " 2 2 2 2 2 2 2 2 2 2 2 2 2 2 2 2 2 2 2 2 2 2 2 2 2 2 2 2 2 2 2 2 2 2 2 2 2\n",
      " 2 2 2 2 2 2 2 2 2 2 2 2 2 2 2 2 2 2 2 2 2 2 2 2 2 2 2 2 2 2 2 2 2 2 2 2 2\n",
      " 2 2 2 2 2 2 2 2 2 2 2 2 2 2 2 2 2 2 2 2 2 2 2 2 2 2 2 2 2 2 2 2 2 2 2 2 2\n",
      " 2 2 2 2 2 2 2 2 2 2 2 2 2 2 2 2 2 2 2 2 2 2 2 2 2 2 2 2 2 2 2 2 2 2 2 2 2\n",
      " 2 2 2 2 2 2 2 2 2 2 2 2 2 2 2 2 2 2 2 2 2 2 2 2 2 2 2 2 2 2 2 2 2 2 2 2 2\n",
      " 2 2 2 2 2 2 2 2 2 2 2 2 2 2 2 2 2 2 1 2 2 2 2 2 2 2 2 2 2 2 2 2 2 2 2 2 2\n",
      " 2 2 2 2 2 2 2 2 2 2 2 2 2 2 2 2 2 2 2 2 2 2 2 2 2 2 2 2 2 2 2 2 2 2 2 2 2\n",
      " 2 2 2 2 2 2 2 2 2 2 2 2 2 2 2 2 2 2 2 2 2 2 2 2 2 2 2 2 2 2 2 2 2 2 2 2 2\n",
      " 2 2 2 2 2 2 2 2 2 2 2 2 2 2 2 2 2 2 2 2 2 2 2 2 2 2 2 2 2 2 0 2 2 2 2 2 2\n",
      " 2 2 2 2 2 2]\n"
     ]
    },
    {
     "data": {
      "image/png": "[encoded data removed]",
      "text/plain": [
       "<Figure size 432x288 with 1 Axes>"
      ]
     },
     "metadata": {
      "needs_background": "light"
     },
     "output_type": "display_data"
    }
   ],
   "source": [
    "pred=SCMK(data,3,alpha=1e-3,beta=1e1,gamma=1e-3,mu=1e1,nb_etape=50,tol=1e-3)\n",
    "print(pred)\n",
    "plt.scatter(X[:, 0], X[:, 1], s=10,c=pred, cmap='Paired')\n",
    "plt.xlabel(\"x1\"); plt.xlabel(\"x2\");"
   ]
  },
  {
   "cell_type": "code",
   "execution_count": 211,
   "metadata": {},
   "outputs": [
    {
     "data": {
      "image/png": "[encoded data removed]",
      "text/plain": [
       "<Figure size 432x288 with 1 Axes>"
      ]
     },
     "metadata": {
      "needs_background": "light"
     },
     "output_type": "display_data"
    }
   ],
   "source": [
    "from sklearn.cluster import KMeans\n",
    "modkmeans = KMeans(n_clusters=3, random_state=0) \n",
    "fitkmeans=modkmeans.fit(X)\n",
    "y_pred=fitkmeans.predict(X)\n",
    "plt.scatter(X[:, 0], X[:, 1], s=10,c=y_pred, cmap='Paired')\n",
    "plt.xlabel(\"x1\"); plt.xlabel(\"x2\");"
   ]
  },
  {
   "cell_type": "markdown",
   "metadata": {},
   "source": [
    "https://github.com/endsley/machine_learning_libs/blob/52cac5d64b55a12dfbdad1c768cdd8d79d5789f5/Optimize_Stiefel_Manifold/orthogonal_optimization.py"
   ]
  },
  {
   "cell_type": "code",
   "execution_count": 1,
   "metadata": {},
   "outputs": [],
   "source": [
    "import numpy as np\n",
    "#fun1(P,L,F,Q,beta,gamma)\n",
    "def fun2(P,args):\n",
    "    \n",
    "    fct = args[3] * np.trace(P.T @ args[0] @ P) + args[4] * np.linalg.norm(args[1] - P @ args[2],ord='fro')\n",
    "    return fct\n",
    "def grad2(P,args):\n",
    "    grad = 2 * args[3] * args[0] @ P + args[4] * (-2 * args[1] @ args[2].T + 2 * P)\n",
    "    return grad\n",
    "\n",
    "\n",
    "def fun3(P,args):\n",
    "    \n",
    "    fct =  np.trace(P.T @ args[0] @ P) + args[4]/args[3] * np.linalg.norm(args[1] - P @ args[2],ord='fro')**2\n",
    "    return fct\n",
    "\n",
    "def grad3(P,args):\n",
    "    grad = 2 * args[0] @ P -2 * args[4]/args[3] * args[1] @ args[2].T\n",
    "    return grad\n",
    "\n",
    "class orthogonal_optimization:\n",
    "\tdef __init__(self, cost_function, gradient_function):\n",
    "\t\tself.cost_function = cost_function\n",
    "\t\tself.gradient_function = gradient_function\n",
    "\t\tself.x_opt = None\n",
    "\t\tself.cost_opt = None\n",
    "\t\tself.db = {}\n",
    "\n",
    "\tdef calc_A(self, x, args):\n",
    "\t\tG = self.gradient_function(x,args)\n",
    "\t\tA = G.dot(x.T) - x.dot(G.T)\n",
    "\t\treturn [A,G]\n",
    "\n",
    "\tdef compute_gradient(self, x, args):\n",
    "\t\t[A,G] = self.calc_A(x,args)\n",
    "\t\treturn A.dot(x)\n",
    "\n",
    "\t#\tApplying Sherman-Morrison-Woodbury Theorem ( A faster way to update instead of recalculating inverse )\n",
    "\tdef constant_update_inv(self, x, G, M_inv, α_Δ):\n",
    "\t\tif α_Δ == 0: return M_inv\n",
    "\t\td = x.shape[1]\n",
    "\t\tI = np.eye(d)\n",
    "\n",
    "\t\t#\t1st update\n",
    "\t\tU = α_Δ*G\n",
    "\t\tV = x\n",
    "\t\tE = np.linalg.inv(I + V.T.dot(M_inv).dot(U))\n",
    "\t\tM_inv = M_inv - M_inv.dot(U).dot(E).dot(V.T).dot(M_inv)\n",
    "\n",
    "\t\t#\t2nd update\n",
    "\t\tU = -α_Δ*x\n",
    "\t\tV = G\n",
    "\t\tE = np.linalg.inv(I + V.T.dot(M_inv).dot(U))\n",
    "\t\tM_inv = M_inv - M_inv.dot(U).dot(E).dot(V.T).dot(M_inv)\n",
    "\t\n",
    "\t\treturn M_inv\n",
    "\n",
    "\tdef run(self, x_init, args, max_rep=400):\n",
    "\t\td = x_init.shape[0]\n",
    "\t\tself.x_opt = x_init\n",
    "\t\tI = np.eye(d)\n",
    "\t\tconverged = False\n",
    "\t\tx_change = np.linalg.norm(x_init)\n",
    "\t\tm = 0\n",
    "\n",
    "\t\twhile( (converged == False) and (m < max_rep)):\n",
    "\t\t\told_α = 2\n",
    "\t\t\tnew_α = 2\n",
    "\t\t\tα_Δ = 0\n",
    "\t\t\tcost_1 = self.cost_function(self.x_opt,args)\n",
    "\t\t\t[A,G] = self.calc_A(self.x_opt,args)\n",
    "\t\t\tM_inv = np.linalg.inv(I + new_α*A)\n",
    "\n",
    "\t\t\twhile(new_α > 0.000000001):\t\n",
    "\t\t\t\tif True: M_inv = self.constant_update_inv(self.x_opt, G, M_inv, α_Δ)\t\t#\tUsing Woodbury inverse update\n",
    "\t\t\t\telse:\tM_inv = np.linalg.inv(I + new_α*A) \t\t\t\t\t\t\t\t\t#\tUsing slow inverse\n",
    "\t\t\t\tnext_x = M_inv.dot(I - new_α*A).dot(self.x_opt)\n",
    "\t\t\t\tcost_2 = self.cost_function(next_x,args)\n",
    "\t\t\t\tx_change = 0\n",
    "\n",
    "\t\t\t\tif 'run_debug_1' in self.db: print(new_α, cost_1, cost_2)\n",
    "\t\t\t\tif((cost_2 < cost_1) or (abs(cost_1 - cost_2)/abs(cost_1) < 0.0000001)):\n",
    "\t\t\t\t\tx_change = np.linalg.norm(next_x - self.x_opt)\n",
    "\t\t\t\t\t[self.x_opt,R] = np.linalg.qr(next_x)\t\t# QR ensures orthogonality\n",
    "\t\t\t\t\tself.cost_opt = cost_2\n",
    "\t\t\t\t\tbreak\n",
    "\t\t\t\telse:\n",
    "\t\t\t\t\told_α = new_α\n",
    "\t\t\t\t\tnew_α = new_α*0.2\n",
    "\t\t\t\t\tα_Δ = new_α - old_α\n",
    "\n",
    "\t\t\tm += 1\n",
    "\n",
    "\t\t\tif 'run_debug_2' in self.db: print('Cost Norm : %.3f'%cost_2)\n",
    "\t\t\tif 'run_debug_3' in self.db: print('Gradient Norm : %.3f'%np.linalg.norm(self.compute_gradient(self.x_opt)))\n",
    "\n",
    "\t\t\t#print(x_change)\n",
    "\t\t\tif(x_change < 0.001*np.linalg.norm(self.x_opt)): converged = True\n",
    "\n",
    "\t\treturn self.x_opt\t"
   ]
  },
  {
   "cell_type": "code",
   "execution_count": 501,
   "metadata": {},
   "outputs": [
    {
     "data": {
      "text/plain": [
       "[<matplotlib.lines.Line2D at 0x7f8f3b361610>]"
      ]
     },
     "execution_count": 501,
     "metadata": {},
     "output_type": "execute_result"
    },
    {
     "data": {
      "image/png": "[encoded data removed]",
      "text/plain": [
       "<Figure size 432x288 with 1 Axes>"
      ]
     },
     "metadata": {
      "needs_background": "light"
     },
     "output_type": "display_data"
    }
   ],
   "source": [
    "M=np.concatenate([np.random.uniform(0,1,(100,1)),np.random.uniform(10,11,(100,1))],axis=0)\n",
    "plt.plot(M)"
   ]
  },
  {
   "cell_type": "code",
   "execution_count": 502,
   "metadata": {},
   "outputs": [
    {
     "data": {
      "text/plain": [
       "array([[0.        , 0.9925481 , 0.98739342, ..., 0.05097462, 0.05675903,\n",
       "        0.08671154],\n",
       "       [0.9925481 , 0.        , 0.99484532, ..., 0.04352272, 0.04930714,\n",
       "        0.07925964],\n",
       "       [0.98739342, 0.99484532, 0.        , ..., 0.03836804, 0.04415246,\n",
       "        0.07410496],\n",
       "       ...,\n",
       "       [0.05097462, 0.04352272, 0.03836804, ..., 0.        , 0.99421558,\n",
       "        0.96426308],\n",
       "       [0.05675903, 0.04930714, 0.04415246, ..., 0.99421558, 0.        ,\n",
       "        0.9700475 ],\n",
       "       [0.08671154, 0.07925964, 0.07410496, ..., 0.96426308, 0.9700475 ,\n",
       "        0.        ]])"
      ]
     },
     "execution_count": 502,
     "metadata": {},
     "output_type": "execute_result"
    }
   ],
   "source": [
    "data=np.zeros((200,200))\n",
    "for i in range(200):\n",
    "    for j in range(200):\n",
    "        data[i,j]=np.linalg.norm(M[i]-M[j],2)\n",
    "data = 1 - data/np.max(data)\n",
    "data = data - np.diag(np.diag(data))\n",
    "data"
   ]
  },
  {
   "cell_type": "code",
   "execution_count": 503,
   "metadata": {},
   "outputs": [
    {
     "name": "stdout",
     "output_type": "stream",
     "text": [
      "3007162928969.7617\n",
      "1.58570709855257e+21\n",
      "1.7757294611134486e+30\n",
      "2.0432436143884846e+39\n",
      "2.3901529751865303e+48\n",
      "2.793035547049183e+57\n",
      "3.314436788014091e+66\n",
      "3.923532652147096e+75\n",
      "4.738682892880412e+84\n",
      "5.696607915865908e+93\n",
      "6.965688529447745e+102\n",
      "8.482812758785682e+111\n",
      "1.0530086544651327e+121\n",
      "1.3007831138977765e+130\n",
      "1.6401889566544168e+139\n",
      "2.057901821452253e+148\n",
      "2.6558158008505538e+157\n",
      "3.424507152001953e+166\n",
      "4.5329968575192434e+175\n",
      "5.992194653039323e+184\n",
      "8.143827952393557e+193\n",
      "1.099946335009165e+203\n",
      "1.529909467909316e+212\n",
      "2.1140703616669275e+221\n",
      "3.0087575729161697e+230\n",
      "4.249391166397001e+239\n",
      "6.183146449814735e+248\n",
      "8.939646088969388e+257\n",
      "1.3323623661709002e+267\n",
      "1.970659273622193e+276\n",
      "2.9993164505787125e+285\n",
      "4.531195906287962e+294\n",
      "7.032518832292258e+303\n",
      "inf\n",
      "inf\n",
      "inf\n",
      "inf\n",
      "inf\n"
     ]
    },
    {
     "name": "stderr",
     "output_type": "stream",
     "text": [
      "/Users/kylliann/opt/anaconda3/lib/python3.7/site-packages/ipykernel_launcher.py:2: RuntimeWarning: overflow encountered in matmul\n",
      "  \n",
      "/Users/kylliann/opt/anaconda3/lib/python3.7/site-packages/numpy/core/fromnumeric.py:1698: RuntimeWarning: overflow encountered in reduce\n",
      "  return asanyarray(a).trace(offset=offset, axis1=axis1, axis2=axis2, dtype=dtype, out=out)\n"
     ]
    },
    {
     "name": "stdout",
     "output_type": "stream",
     "text": [
      "inf\n",
      "inf\n",
      "inf\n",
      "inf\n",
      "inf\n",
      "inf\n",
      "inf\n",
      "inf\n",
      "inf\n",
      "inf\n",
      "inf\n",
      "inf\n",
      "inf\n",
      "inf\n",
      "inf\n",
      "inf\n",
      "inf\n",
      "inf\n",
      "inf\n",
      "inf\n",
      "inf\n",
      "inf\n",
      "inf\n",
      "inf\n",
      "inf\n",
      "inf\n",
      "inf\n",
      "inf\n",
      "nan\n",
      "nan\n",
      "nan\n",
      "nan\n",
      "nan\n",
      "nan\n"
     ]
    },
    {
     "name": "stderr",
     "output_type": "stream",
     "text": [
      "/Users/kylliann/opt/anaconda3/lib/python3.7/site-packages/ipykernel_launcher.py:14: RuntimeWarning: overflow encountered in matmul\n",
      "  \n",
      "/Users/kylliann/opt/anaconda3/lib/python3.7/site-packages/ipykernel_launcher.py:14: RuntimeWarning: invalid value encountered in matmul\n",
      "  \n",
      "/Users/kylliann/opt/anaconda3/lib/python3.7/site-packages/ipykernel_launcher.py:59: RuntimeWarning: overflow encountered in matmul\n",
      "/Users/kylliann/opt/anaconda3/lib/python3.7/site-packages/ipykernel_launcher.py:18: RuntimeWarning: invalid value encountered in matmul\n",
      "/Users/kylliann/opt/anaconda3/lib/python3.7/site-packages/ipykernel_launcher.py:31: RuntimeWarning: invalid value encountered in subtract\n",
      "/Users/kylliann/opt/anaconda3/lib/python3.7/site-packages/ipykernel_launcher.py:2: RuntimeWarning: invalid value encountered in matmul\n",
      "  \n",
      "/Users/kylliann/opt/anaconda3/lib/python3.7/site-packages/ipykernel_launcher.py:2: RuntimeWarning: invalid value encountered in add\n",
      "  \n",
      "/Users/kylliann/opt/anaconda3/lib/python3.7/site-packages/ipykernel_launcher.py:55: RuntimeWarning: invalid value encountered in add\n",
      "/Users/kylliann/opt/anaconda3/lib/python3.7/site-packages/ipykernel_launcher.py:60: RuntimeWarning: invalid value encountered in subtract\n",
      "/Users/kylliann/opt/anaconda3/lib/python3.7/site-packages/ipykernel_launcher.py:62: RuntimeWarning: overflow encountered in add\n"
     ]
    },
    {
     "name": "stdout",
     "output_type": "stream",
     "text": [
      "nan\n",
      "nan\n",
      "nan\n",
      "nan\n",
      "nan\n",
      "nan\n",
      "nan\n",
      "nan\n",
      "nan\n",
      "nan\n",
      "nan\n",
      "nan\n",
      "nan\n",
      "nan\n",
      "nan\n",
      "nan\n",
      "nan\n",
      "nan\n",
      "nan\n",
      "nan\n",
      "nan\n",
      "nan\n",
      "nan\n",
      "nan\n",
      "nan\n",
      "nan\n",
      "nan\n",
      "nan\n",
      "[0 1 0 0 0 1 1 0 1 1 1 0 0 1 0 1 1 1 0 0 0 0 1 0 1 1 1 1 0 1 0 1 0 1 0 0 1\n",
      " 0 0 1 1 1 1 0 1 1 1 1 0 0 1 0 0 0 0 1 0 0 0 0 1 0 1 1 1 1 1 1 1 0 1 0 1 1\n",
      " 0 1 0 0 0 1 0 0 0 0 0 0 0 1 0 1 1 0 1 0 1 1 0 1 0 0 0 0 1 0 0 1 0 0 1 1 0\n",
      " 0 0 1 1 0 1 0 0 0 0 1 1 1 1 0 0 1 1 1 0 0 0 0 1 0 0 1 0 1 1 1 0 1 0 1 0 0\n",
      " 1 1 0 1 1 1 1 0 0 0 1 1 1 1 0 1 0 0 1 1 1 1 1 1 1 0 1 0 1 1 1 0 0 1 0 1 0\n",
      " 1 1 0 1 1 0 0 1 0 1 0 1 1 1 0]\n"
     ]
    }
   ],
   "source": [
    "pred=SCMK(data,2,10**-15,1,1,1,nb_etape=100,tol=1e-3)\n",
    "print(pred)"
   ]
  },
  {
   "cell_type": "code",
   "execution_count": null,
   "metadata": {},
   "outputs": [],
   "source": []
  },
  {
   "cell_type": "markdown",
   "metadata": {},
   "source": []
  }
 ],
 "metadata": {
  "kernelspec": {
   "display_name": "Python 3",
   "language": "python",
   "name": "python3"
  },
  "language_info": {
   "codemirror_mode": {
    "name": "ipython",
    "version": 3
   },
   "file_extension": ".py",
   "mimetype": "text/x-python",
   "name": "python",
   "nbconvert_exporter": "python",
   "pygments_lexer": "ipython3",
   "version": "3.7.9"
  }
 },
 "nbformat": 4,
 "nbformat_minor": 4
}
